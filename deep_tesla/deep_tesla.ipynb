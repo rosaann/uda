{
 "cells": [
  {
   "cell_type": "markdown",
   "metadata": {},
   "source": [
    "添加引用"
   ]
  },
  {
   "cell_type": "code",
   "execution_count": 2,
   "metadata": {},
   "outputs": [
    {
     "name": "stderr",
     "output_type": "stream",
     "text": [
      "Using TensorFlow backend.\n"
     ]
    }
   ],
   "source": [
    "import utils\n",
    "import params\n",
    "import cv2\n",
    "import matplotlib.pyplot as plt\n",
    "import pickle\n",
    "import numpy as np\n"
   ]
  },
  {
   "cell_type": "markdown",
   "metadata": {},
   "source": [
    "从Tesla数据集的视频中，得到训练图片。从数据集的车辆转向记录中读取转向数据，将转向数据和训练图片做一一对应，得到训练数据集。"
   ]
  },
  {
   "cell_type": "code",
   "execution_count": null,
   "metadata": {},
   "outputs": [],
   "source": [
    "def shuffle_in_unison(a, b):\n",
    "     assert len(a) == len(b)\n",
    "     shuffled_a = np.empty(np.array(a).shape, dtype=np.array(a).dtype)\n",
    "     shuffled_b = np.empty(np.array(b).shape, dtype=np.array(b).dtype)\n",
    "     permutation = np.random.permutation(len(a))\n",
    "     for old_index, new_index in enumerate(permutation):\n",
    "         shuffled_a[new_index] = a[old_index]\n",
    "         shuffled_b[new_index] = b[old_index]\n",
    "     return shuffled_a, shuffled_b\n",
    "\n",
    "#加载epoch1到epoch9的所有视频的图片到img_list中，加载epoch1到epoch9的所有转向数据到steer_list，\n",
    "for epoch_id in range(1,2):    \n",
    "    vid_path = utils.join_dir(params.data_dir, 'epoch{:0>2}_front.mkv').format(epoch_id)\n",
    "    steer_path = utils.join_dir(params.data_dir, 'epoch{:0>2}_steering.csv').format(epoch_id)\n",
    "    steer_data = utils.fetch_csv_data(steer_path)\n",
    "    steer_list = steer_data['wheel']\n",
    "\n",
    "    frame_count = utils.frame_count(vid_path)\n",
    "    cap = cv2.VideoCapture(vid_path)\n",
    "    img_list = []\n",
    "    \n",
    "    for frame_id in range(frame_count):\n",
    "        ret, img = cap.read()       \n",
    "        img_resized = utils.img_pre_process(img)\n",
    "        img_list.append(img_resized)\n",
    "        \n",
    "        if frame_id == frame_count - 1 and epoch_id == 9:\n",
    "            print(\"img pre shape {}\".format(img.shape))\n",
    "            print(\"img after shape {}\".format(img_resized.shape))\n",
    "            plt.imshow(img)\n",
    "            plt.show()\n",
    "            plt.imshow(img_resized)\n",
    "            plt.show()\n",
    "    \n",
    "    #随机打乱数据\n",
    "\n",
    "  #  indices = np.random.permutation(len(steer_list)) \n",
    "  #  print(indices)\n",
    "   # steer_list = np.array(steer_list)[indices] \n",
    "   # img_list = np.array(img_list)[indices]  \n",
    "    steer_list,img_list = shuffle_in_unison(steer_list,img_list)\n",
    "    #取10%的训练数据做验证集\n",
    "    train_data_count = int((len(steer_list) * 0.9))\n",
    "    img_list_train = img_list[(img_list[:train_data_count])]\n",
    "    img_list_val = img_list[(img_list[train_data_count:])] \n",
    "    steer_list_train = steer_list[(steer_list[:train_data_count])] \n",
    "    steer_list_val = steer_list[(steer_list[train_data_count:])]\n",
    "    \n",
    "    #把训练集和验证集存到本地\n",
    "    train_add = 'epoch{:0>2}_preprocess_train.p'.format(epoch_id)\n",
    "    val_add = 'epoch{:0>2}_preprocess_val.p'.format(epoch_id)\n",
    "    pickle.dump((img_list_train, steer_list_train_all), open(train_add, 'wb'))\n",
    "    pickle.dump((img_list_val, steer_list_val_all), open(val_add, 'wb'))\n",
    "    print (len(img_list_train))\n",
    "    print(len(img_list_val))\n",
    "\n"
   ]
  },
  {
   "cell_type": "markdown",
   "metadata": {},
   "source": [
    "加载预存数据"
   ]
  },
  {
   "cell_type": "code",
   "execution_count": null,
   "metadata": {},
   "outputs": [],
   "source": [
    "train_features, train_steer = pickle.load(open('preprocess_train.p', mode='rb'))"
   ]
  },
  {
   "cell_type": "code",
   "execution_count": null,
   "metadata": {},
   "outputs": [],
   "source": [
    "def normalize(x):\n",
    "    \"\"\"\n",
    "    Normalize a list of sample image data in the range of 0 to 1\n",
    "    : x: List of image data.  The image shape is (32, 32, 3)\n",
    "    : return: Numpy array of normalize data\n",
    "    \"\"\"\n",
    "    # TODO: Implement Function\n",
    "    a = 0\n",
    "    b = 1\n",
    "    min = 0\n",
    "    max = 255\n",
    "    x[(x < 0)]= 0;\n",
    "    x[(x > 255)]= 255;\n",
    "    \n",
    "    return a + ( ( (x - min)*(b - a) )/( max - min ) )"
   ]
  },
  {
   "cell_type": "code",
   "execution_count": null,
   "metadata": {},
   "outputs": [],
   "source": []
  }
 ],
 "metadata": {
  "kernelspec": {
   "display_name": "Python 3",
   "language": "python",
   "name": "python3"
  },
  "language_info": {
   "codemirror_mode": {
    "name": "ipython",
    "version": 3
   },
   "file_extension": ".py",
   "mimetype": "text/x-python",
   "name": "python",
   "nbconvert_exporter": "python",
   "pygments_lexer": "ipython3",
   "version": "3.5.4"
  }
 },
 "nbformat": 4,
 "nbformat_minor": 2
}
